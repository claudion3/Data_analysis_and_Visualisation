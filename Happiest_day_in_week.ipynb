{
 "cells": [
  {
   "cell_type": "code",
   "execution_count": 1,
   "id": "ac8f6aea",
   "metadata": {},
   "outputs": [
    {
     "data": {
      "text/html": [
       "<div>\n",
       "<style scoped>\n",
       "    .dataframe tbody tr th:only-of-type {\n",
       "        vertical-align: middle;\n",
       "    }\n",
       "\n",
       "    .dataframe tbody tr th {\n",
       "        vertical-align: top;\n",
       "    }\n",
       "\n",
       "    .dataframe thead th {\n",
       "        text-align: right;\n",
       "    }\n",
       "</style>\n",
       "<table border=\"1\" class=\"dataframe\">\n",
       "  <thead>\n",
       "    <tr style=\"text-align: right;\">\n",
       "      <th></th>\n",
       "      <th>Course Name</th>\n",
       "      <th>Timestamp</th>\n",
       "      <th>Rating</th>\n",
       "      <th>Comment</th>\n",
       "    </tr>\n",
       "  </thead>\n",
       "  <tbody>\n",
       "    <tr>\n",
       "      <th>0</th>\n",
       "      <td>The Python Mega Course: Build 10 Real World Ap...</td>\n",
       "      <td>2021-04-02 06:25:52+00:00</td>\n",
       "      <td>4.0</td>\n",
       "      <td>NaN</td>\n",
       "    </tr>\n",
       "    <tr>\n",
       "      <th>1</th>\n",
       "      <td>The Python Mega Course: Build 10 Real World Ap...</td>\n",
       "      <td>2021-04-02 05:12:34+00:00</td>\n",
       "      <td>4.0</td>\n",
       "      <td>NaN</td>\n",
       "    </tr>\n",
       "    <tr>\n",
       "      <th>2</th>\n",
       "      <td>The Python Mega Course: Build 10 Real World Ap...</td>\n",
       "      <td>2021-04-02 05:11:03+00:00</td>\n",
       "      <td>4.0</td>\n",
       "      <td>NaN</td>\n",
       "    </tr>\n",
       "    <tr>\n",
       "      <th>3</th>\n",
       "      <td>The Python Mega Course: Build 10 Real World Ap...</td>\n",
       "      <td>2021-04-02 03:33:24+00:00</td>\n",
       "      <td>5.0</td>\n",
       "      <td>NaN</td>\n",
       "    </tr>\n",
       "    <tr>\n",
       "      <th>4</th>\n",
       "      <td>The Python Mega Course: Build 10 Real World Ap...</td>\n",
       "      <td>2021-04-02 03:31:49+00:00</td>\n",
       "      <td>4.5</td>\n",
       "      <td>NaN</td>\n",
       "    </tr>\n",
       "  </tbody>\n",
       "</table>\n",
       "</div>"
      ],
      "text/plain": [
       "                                         Course Name  \\\n",
       "0  The Python Mega Course: Build 10 Real World Ap...   \n",
       "1  The Python Mega Course: Build 10 Real World Ap...   \n",
       "2  The Python Mega Course: Build 10 Real World Ap...   \n",
       "3  The Python Mega Course: Build 10 Real World Ap...   \n",
       "4  The Python Mega Course: Build 10 Real World Ap...   \n",
       "\n",
       "                  Timestamp  Rating Comment  \n",
       "0 2021-04-02 06:25:52+00:00     4.0     NaN  \n",
       "1 2021-04-02 05:12:34+00:00     4.0     NaN  \n",
       "2 2021-04-02 05:11:03+00:00     4.0     NaN  \n",
       "3 2021-04-02 03:33:24+00:00     5.0     NaN  \n",
       "4 2021-04-02 03:31:49+00:00     4.5     NaN  "
      ]
     },
     "execution_count": 1,
     "metadata": {},
     "output_type": "execute_result"
    }
   ],
   "source": [
    "import pandas\n",
    "from datetime import datetime\n",
    "from pytz import utc\n",
    "import matplotlib.pyplot as plt\n",
    "data=pandas.read_csv(\"reviews.csv\", parse_dates=['Timestamp'])\n",
    "data.head()"
   ]
  },
  {
   "cell_type": "markdown",
   "id": "717ca125",
   "metadata": {},
   "source": [
    "### what day are poeple the happiest?"
   ]
  },
  {
   "cell_type": "code",
   "execution_count": 5,
   "id": "f135ae5a",
   "metadata": {},
   "outputs": [
    {
     "data": {
      "text/plain": [
       "[<matplotlib.lines.Line2D at 0x1d97d50d850>]"
      ]
     },
     "execution_count": 5,
     "metadata": {},
     "output_type": "execute_result"
    },
    {
     "data": {
      "image/png": "[encoded data removed]",
      "text/plain": [
       "<Figure size 720x216 with 1 Axes>"
      ]
     },
     "metadata": {
      "needs_background": "light"
     },
     "output_type": "display_data"
    }
   ],
   "source": [
    "data['Weekday']=data['Timestamp'].dt.strftime('%A')\n",
    "data['Daynumber']=data['Timestamp'].dt.strftime('%w')\n",
    "\n",
    "weekday_average=data.groupby(['Weekday','Daynumber']).mean()\n",
    "weekday_average=weekday_average.sort_values('Daynumber')\n",
    "\n",
    "\n",
    "plt.figure(figsize=(10,3))\n",
    "plt.plot(weekday_average.index.get_level_values(0), weekday_average['Rating'])"
   ]
  }
 ],
 "metadata": {
  "kernelspec": {
   "display_name": "Python 3",
   "language": "python",
   "name": "python3"
  },
  "language_info": {
   "codemirror_mode": {
    "name": "ipython",
    "version": 3
   },
   "file_extension": ".py",
   "mimetype": "text/x-python",
   "name": "python",
   "nbconvert_exporter": "python",
   "pygments_lexer": "ipython3",
   "version": "3.9.1"
  }
 },
 "nbformat": 4,
 "nbformat_minor": 5
}
